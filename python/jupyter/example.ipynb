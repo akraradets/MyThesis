{
 "cells": [
  {
   "cell_type": "markdown",
   "id": "27cc5024",
   "metadata": {},
   "source": [
    "If `python` and `jupyter` extension are installed, the jupyter notebook should detect the correct kernel automatically.\n",
    "\n",
    "Check the kernel that it use `your-project-name (Python <version>)` in the top right corner of the notebook.\n",
    "If it does not, you can change the kernel by clicking on the kernel name and selecting the correct one from the dropdown list.\n",
    "\n",
    "If the drop down list does not show the correct kernel, recheck the following:\n",
    "1. You have `.venv` folder. It not, run `uv sync` to create it.\n",
    "2. You have `python` and `jupyter` extensions installed in your VS Code.\n",
    "3. re-open the notebook."
   ]
  },
  {
   "cell_type": "code",
   "execution_count": 2,
   "id": "99626979",
   "metadata": {},
   "outputs": [
    {
     "data": {
      "text/plain": [
       "array([1, 2, 3])"
      ]
     },
     "execution_count": 2,
     "metadata": {},
     "output_type": "execute_result"
    }
   ],
   "source": [
    "import numpy as np\n",
    "\n",
    "np.array([1, 2, 3])  # Example usage of numpy"
   ]
  },
  {
   "cell_type": "markdown",
   "id": "4df44aec",
   "metadata": {},
   "source": [
    "## Path referencing\n",
    "Jupyter runs at `/Projects/python/jupyter`."
   ]
  },
  {
   "cell_type": "code",
   "execution_count": 3,
   "id": "07d5e388",
   "metadata": {},
   "outputs": [
    {
     "name": "stdout",
     "output_type": "stream",
     "text": [
      "/Projects/python/jupyter\n"
     ]
    }
   ],
   "source": [
    "!pwd"
   ]
  },
  {
   "cell_type": "markdown",
   "id": "1e66421d",
   "metadata": {},
   "source": [
    "If you want to reference files in the project, you have to use relatives paths. `../images/img.jpg`\n",
    "\n",
    "![Example of path referencing](../images/img.jpg)\n"
   ]
  },
  {
   "cell_type": "markdown",
   "id": "6c212910",
   "metadata": {},
   "source": [
    "## Importing your packages"
   ]
  },
  {
   "cell_type": "code",
   "execution_count": 4,
   "id": "e864dd6e",
   "metadata": {},
   "outputs": [
    {
     "data": {
      "text/plain": [
       "'Hello, Alice!'"
      ]
     },
     "execution_count": 4,
     "metadata": {},
     "output_type": "execute_result"
    }
   ],
   "source": [
    "from mylib import MyObj\n",
    "MyObj(\"Alice\").greet()  # Example usage of custom class"
   ]
  },
  {
   "cell_type": "code",
   "execution_count": 5,
   "id": "3a1a730f",
   "metadata": {},
   "outputs": [
    {
     "data": {
      "text/plain": [
       "'Hello, Bob!'"
      ]
     },
     "execution_count": 5,
     "metadata": {},
     "output_type": "execute_result"
    }
   ],
   "source": [
    "from mysecondlib import MyObjTwo\n",
    "MyObjTwo(\"Bob\").greet()  # Example usage of another custom class"
   ]
  }
 ],
 "metadata": {
  "kernelspec": {
   "display_name": "your-project-name",
   "language": "python",
   "name": "python3"
  },
  "language_info": {
   "codemirror_mode": {
    "name": "ipython",
    "version": 3
   },
   "file_extension": ".py",
   "mimetype": "text/x-python",
   "name": "python",
   "nbconvert_exporter": "python",
   "pygments_lexer": "ipython3",
   "version": "3.11.13"
  }
 },
 "nbformat": 4,
 "nbformat_minor": 5
}
